{
 "cells": [
  {
   "cell_type": "markdown",
   "metadata": {
    "id": "H9wADwK78DCz"
   },
   "source": [
    "# Proyek Analisis Data: Bike Sharing Dataset\n",
    "- **Nama:** Rizal Dwi Anggoro\n",
    "- **Email:** gnoogler4@gmail.com\n",
    "- **ID Dicoding:** rizalanggoro"
   ]
  },
  {
   "cell_type": "markdown",
   "metadata": {
    "id": "eE0raob58DC0"
   },
   "source": [
    "## Menentukan Pertanyaan Bisnis"
   ]
  },
  {
   "cell_type": "markdown",
   "metadata": {
    "id": "GmQeQ5YF8DC0"
   },
   "source": [
    "- Bagaimana perbedaan total transaksi peminjaman sepeda antara hari kerja dan hari libur?\n",
    "- Apakah faktor cuaca berpengaruh terhadap peminjaman sepeda antara pelanggan casual dan registered?\n",
    "- Apakah faktor musim berpengaruh terhadap peminjaman sepeda antara pelanggan casual dan registered?"
   ]
  },
  {
   "cell_type": "markdown",
   "metadata": {
    "id": "H-z4QGlO8DC1"
   },
   "source": [
    "## Import Semua Packages/Library yang Digunakan"
   ]
  },
  {
   "cell_type": "code",
   "metadata": {
    "id": "FVYwaObI8DC1",
    "ExecuteTime": {
     "end_time": "2024-10-02T14:42:51.200988Z",
     "start_time": "2024-10-02T14:42:51.197707Z"
    }
   },
   "source": [
    "import pandas as pd\n",
    "import matplotlib.pyplot as plt"
   ],
   "outputs": [],
   "execution_count": 396
  },
  {
   "cell_type": "markdown",
   "metadata": {
    "id": "h_Sh51Xy8DC1"
   },
   "source": "## Data Wrangling"
  },
  {
   "cell_type": "markdown",
   "metadata": {
    "id": "sXU2GBYu8DC1"
   },
   "source": [
    "### Gathering Data\n",
    "\n",
    "Pada tahap data wrangling, kita akan mengimpor dan menggunakan data csv yang sudah disediakan, yaitu **day.csv**"
   ]
  },
  {
   "cell_type": "code",
   "metadata": {
    "id": "zjCBk1BI8DC1",
    "ExecuteTime": {
     "end_time": "2024-10-02T14:42:51.268360Z",
     "start_time": "2024-10-02T14:42:51.247561Z"
    }
   },
   "source": [
    "day_df = pd.read_csv('data/day.csv')\n",
    "day_df.head()"
   ],
   "outputs": [
    {
     "data": {
      "text/plain": [
       "   instant      dteday  season  yr  mnth  holiday  weekday  workingday  \\\n",
       "0        1  2011-01-01       1   0     1        0        6           0   \n",
       "1        2  2011-01-02       1   0     1        0        0           0   \n",
       "2        3  2011-01-03       1   0     1        0        1           1   \n",
       "3        4  2011-01-04       1   0     1        0        2           1   \n",
       "4        5  2011-01-05       1   0     1        0        3           1   \n",
       "\n",
       "   weathersit      temp     atemp       hum  windspeed  casual  registered  \\\n",
       "0           2  0.344167  0.363625  0.805833   0.160446     331         654   \n",
       "1           2  0.363478  0.353739  0.696087   0.248539     131         670   \n",
       "2           1  0.196364  0.189405  0.437273   0.248309     120        1229   \n",
       "3           1  0.200000  0.212122  0.590435   0.160296     108        1454   \n",
       "4           1  0.226957  0.229270  0.436957   0.186900      82        1518   \n",
       "\n",
       "    cnt  \n",
       "0   985  \n",
       "1   801  \n",
       "2  1349  \n",
       "3  1562  \n",
       "4  1600  "
      ],
      "text/html": [
       "<div>\n",
       "<style scoped>\n",
       "    .dataframe tbody tr th:only-of-type {\n",
       "        vertical-align: middle;\n",
       "    }\n",
       "\n",
       "    .dataframe tbody tr th {\n",
       "        vertical-align: top;\n",
       "    }\n",
       "\n",
       "    .dataframe thead th {\n",
       "        text-align: right;\n",
       "    }\n",
       "</style>\n",
       "<table border=\"1\" class=\"dataframe\">\n",
       "  <thead>\n",
       "    <tr style=\"text-align: right;\">\n",
       "      <th></th>\n",
       "      <th>instant</th>\n",
       "      <th>dteday</th>\n",
       "      <th>season</th>\n",
       "      <th>yr</th>\n",
       "      <th>mnth</th>\n",
       "      <th>holiday</th>\n",
       "      <th>weekday</th>\n",
       "      <th>workingday</th>\n",
       "      <th>weathersit</th>\n",
       "      <th>temp</th>\n",
       "      <th>atemp</th>\n",
       "      <th>hum</th>\n",
       "      <th>windspeed</th>\n",
       "      <th>casual</th>\n",
       "      <th>registered</th>\n",
       "      <th>cnt</th>\n",
       "    </tr>\n",
       "  </thead>\n",
       "  <tbody>\n",
       "    <tr>\n",
       "      <th>0</th>\n",
       "      <td>1</td>\n",
       "      <td>2011-01-01</td>\n",
       "      <td>1</td>\n",
       "      <td>0</td>\n",
       "      <td>1</td>\n",
       "      <td>0</td>\n",
       "      <td>6</td>\n",
       "      <td>0</td>\n",
       "      <td>2</td>\n",
       "      <td>0.344167</td>\n",
       "      <td>0.363625</td>\n",
       "      <td>0.805833</td>\n",
       "      <td>0.160446</td>\n",
       "      <td>331</td>\n",
       "      <td>654</td>\n",
       "      <td>985</td>\n",
       "    </tr>\n",
       "    <tr>\n",
       "      <th>1</th>\n",
       "      <td>2</td>\n",
       "      <td>2011-01-02</td>\n",
       "      <td>1</td>\n",
       "      <td>0</td>\n",
       "      <td>1</td>\n",
       "      <td>0</td>\n",
       "      <td>0</td>\n",
       "      <td>0</td>\n",
       "      <td>2</td>\n",
       "      <td>0.363478</td>\n",
       "      <td>0.353739</td>\n",
       "      <td>0.696087</td>\n",
       "      <td>0.248539</td>\n",
       "      <td>131</td>\n",
       "      <td>670</td>\n",
       "      <td>801</td>\n",
       "    </tr>\n",
       "    <tr>\n",
       "      <th>2</th>\n",
       "      <td>3</td>\n",
       "      <td>2011-01-03</td>\n",
       "      <td>1</td>\n",
       "      <td>0</td>\n",
       "      <td>1</td>\n",
       "      <td>0</td>\n",
       "      <td>1</td>\n",
       "      <td>1</td>\n",
       "      <td>1</td>\n",
       "      <td>0.196364</td>\n",
       "      <td>0.189405</td>\n",
       "      <td>0.437273</td>\n",
       "      <td>0.248309</td>\n",
       "      <td>120</td>\n",
       "      <td>1229</td>\n",
       "      <td>1349</td>\n",
       "    </tr>\n",
       "    <tr>\n",
       "      <th>3</th>\n",
       "      <td>4</td>\n",
       "      <td>2011-01-04</td>\n",
       "      <td>1</td>\n",
       "      <td>0</td>\n",
       "      <td>1</td>\n",
       "      <td>0</td>\n",
       "      <td>2</td>\n",
       "      <td>1</td>\n",
       "      <td>1</td>\n",
       "      <td>0.200000</td>\n",
       "      <td>0.212122</td>\n",
       "      <td>0.590435</td>\n",
       "      <td>0.160296</td>\n",
       "      <td>108</td>\n",
       "      <td>1454</td>\n",
       "      <td>1562</td>\n",
       "    </tr>\n",
       "    <tr>\n",
       "      <th>4</th>\n",
       "      <td>5</td>\n",
       "      <td>2011-01-05</td>\n",
       "      <td>1</td>\n",
       "      <td>0</td>\n",
       "      <td>1</td>\n",
       "      <td>0</td>\n",
       "      <td>3</td>\n",
       "      <td>1</td>\n",
       "      <td>1</td>\n",
       "      <td>0.226957</td>\n",
       "      <td>0.229270</td>\n",
       "      <td>0.436957</td>\n",
       "      <td>0.186900</td>\n",
       "      <td>82</td>\n",
       "      <td>1518</td>\n",
       "      <td>1600</td>\n",
       "    </tr>\n",
       "  </tbody>\n",
       "</table>\n",
       "</div>"
      ]
     },
     "execution_count": 397,
     "metadata": {},
     "output_type": "execute_result"
    }
   ],
   "execution_count": 397
  },
  {
   "cell_type": "markdown",
   "source": [
    "**Insight:**\n",
    "- Dataset tersebut berisi transaksi peminjaman sepeda setiap harinya pada tahun 2011 sampai tahun 2012. \n",
    "- Dataset tersebut berisi transaksi peminjaman sepeda setiap harinya berkaitan dengan kondisi lingkungan seperti cuaca, musim, kelembapan, dll. \n",
    "- Dataset tersebut berisi transaksi peminjaman sepeda setiap harinya berdasarkan jenis pengguna. \n",
    "- Dataset tersebut berisi beberapa attribute sebagai berikut:\n",
    "  * instant     : record index\n",
    "  * dteday      : tanggal\n",
    "  * season      : musim (1: semi, 2: panas, 3: gugur, 4: dingin)\n",
    "  * yr          : tahun (0: 2011, 1:2012)\n",
    "  * mnth        : bulan (1 sampai 12)\n",
    "  * holiday     : apakah hari libur\n",
    "  * weekday     : (0 sampai 6)\n",
    "  * workingday  : apakah hari kerja.\n",
    "  * weathersit  :\n",
    "    * 1: Cerah, Sedikit awan, Berawan sebagian, Berawan sebagian\n",
    "    * 2: Kabut + Berawan, Kabut + Awan pecah, Kabut + Sedikit awan, Kabut\n",
    "    * 3: Salju Ringan, Hujan Ringan + Badai Petir + Awan berserakan, Hujan Ringan + Awan berserakan\n",
    "    * 4: Hujan Lebat + Es + Badai Petir + Kabut, Salju + Kabut\n",
    "  * temp : normalized temperature in celsius.\n",
    "  * atemp: normalized feeling temperature in celsius.\n",
    "  * hum: normalized humidity. \n",
    "  * windspeed: normalized wind speed.\n",
    "  * casual: jumlah pengguna biasa \n",
    "  * registered: jumlah pengguna terdaftar\n",
    "  * cnt: total peminjaman dari semua jenis pengguna"
   ],
   "metadata": {
    "id": "MMi6xGaDkbCi"
   }
  },
  {
   "cell_type": "markdown",
   "metadata": {
    "id": "FHSiqaZp8DC1"
   },
   "source": [
    "### Assessing Data\n",
    "\n",
    "Menilai data peminjaman sepeda harian"
   ]
  },
  {
   "cell_type": "code",
   "source": "day_df.info()",
   "metadata": {
    "id": "ax-3tEjc9Cj1",
    "ExecuteTime": {
     "end_time": "2024-10-02T14:42:51.312721Z",
     "start_time": "2024-10-02T14:42:51.300787Z"
    }
   },
   "outputs": [
    {
     "name": "stdout",
     "output_type": "stream",
     "text": [
      "<class 'pandas.core.frame.DataFrame'>\n",
      "RangeIndex: 731 entries, 0 to 730\n",
      "Data columns (total 16 columns):\n",
      " #   Column      Non-Null Count  Dtype  \n",
      "---  ------      --------------  -----  \n",
      " 0   instant     731 non-null    int64  \n",
      " 1   dteday      731 non-null    object \n",
      " 2   season      731 non-null    int64  \n",
      " 3   yr          731 non-null    int64  \n",
      " 4   mnth        731 non-null    int64  \n",
      " 5   holiday     731 non-null    int64  \n",
      " 6   weekday     731 non-null    int64  \n",
      " 7   workingday  731 non-null    int64  \n",
      " 8   weathersit  731 non-null    int64  \n",
      " 9   temp        731 non-null    float64\n",
      " 10  atemp       731 non-null    float64\n",
      " 11  hum         731 non-null    float64\n",
      " 12  windspeed   731 non-null    float64\n",
      " 13  casual      731 non-null    int64  \n",
      " 14  registered  731 non-null    int64  \n",
      " 15  cnt         731 non-null    int64  \n",
      "dtypes: float64(4), int64(11), object(1)\n",
      "memory usage: 91.5+ KB\n"
     ]
    }
   ],
   "execution_count": 398
  },
  {
   "metadata": {
    "ExecuteTime": {
     "end_time": "2024-10-02T14:42:51.450627Z",
     "start_time": "2024-10-02T14:42:51.413138Z"
    }
   },
   "cell_type": "code",
   "source": "day_df.describe()",
   "outputs": [
    {
     "data": {
      "text/plain": [
       "          instant      season          yr        mnth     holiday     weekday  \\\n",
       "count  731.000000  731.000000  731.000000  731.000000  731.000000  731.000000   \n",
       "mean   366.000000    2.496580    0.500684    6.519836    0.028728    2.997264   \n",
       "std    211.165812    1.110807    0.500342    3.451913    0.167155    2.004787   \n",
       "min      1.000000    1.000000    0.000000    1.000000    0.000000    0.000000   \n",
       "25%    183.500000    2.000000    0.000000    4.000000    0.000000    1.000000   \n",
       "50%    366.000000    3.000000    1.000000    7.000000    0.000000    3.000000   \n",
       "75%    548.500000    3.000000    1.000000   10.000000    0.000000    5.000000   \n",
       "max    731.000000    4.000000    1.000000   12.000000    1.000000    6.000000   \n",
       "\n",
       "       workingday  weathersit        temp       atemp         hum   windspeed  \\\n",
       "count  731.000000  731.000000  731.000000  731.000000  731.000000  731.000000   \n",
       "mean     0.683995    1.395349    0.495385    0.474354    0.627894    0.190486   \n",
       "std      0.465233    0.544894    0.183051    0.162961    0.142429    0.077498   \n",
       "min      0.000000    1.000000    0.059130    0.079070    0.000000    0.022392   \n",
       "25%      0.000000    1.000000    0.337083    0.337842    0.520000    0.134950   \n",
       "50%      1.000000    1.000000    0.498333    0.486733    0.626667    0.180975   \n",
       "75%      1.000000    2.000000    0.655417    0.608602    0.730209    0.233214   \n",
       "max      1.000000    3.000000    0.861667    0.840896    0.972500    0.507463   \n",
       "\n",
       "            casual   registered          cnt  \n",
       "count   731.000000   731.000000   731.000000  \n",
       "mean    848.176471  3656.172367  4504.348837  \n",
       "std     686.622488  1560.256377  1937.211452  \n",
       "min       2.000000    20.000000    22.000000  \n",
       "25%     315.500000  2497.000000  3152.000000  \n",
       "50%     713.000000  3662.000000  4548.000000  \n",
       "75%    1096.000000  4776.500000  5956.000000  \n",
       "max    3410.000000  6946.000000  8714.000000  "
      ],
      "text/html": [
       "<div>\n",
       "<style scoped>\n",
       "    .dataframe tbody tr th:only-of-type {\n",
       "        vertical-align: middle;\n",
       "    }\n",
       "\n",
       "    .dataframe tbody tr th {\n",
       "        vertical-align: top;\n",
       "    }\n",
       "\n",
       "    .dataframe thead th {\n",
       "        text-align: right;\n",
       "    }\n",
       "</style>\n",
       "<table border=\"1\" class=\"dataframe\">\n",
       "  <thead>\n",
       "    <tr style=\"text-align: right;\">\n",
       "      <th></th>\n",
       "      <th>instant</th>\n",
       "      <th>season</th>\n",
       "      <th>yr</th>\n",
       "      <th>mnth</th>\n",
       "      <th>holiday</th>\n",
       "      <th>weekday</th>\n",
       "      <th>workingday</th>\n",
       "      <th>weathersit</th>\n",
       "      <th>temp</th>\n",
       "      <th>atemp</th>\n",
       "      <th>hum</th>\n",
       "      <th>windspeed</th>\n",
       "      <th>casual</th>\n",
       "      <th>registered</th>\n",
       "      <th>cnt</th>\n",
       "    </tr>\n",
       "  </thead>\n",
       "  <tbody>\n",
       "    <tr>\n",
       "      <th>count</th>\n",
       "      <td>731.000000</td>\n",
       "      <td>731.000000</td>\n",
       "      <td>731.000000</td>\n",
       "      <td>731.000000</td>\n",
       "      <td>731.000000</td>\n",
       "      <td>731.000000</td>\n",
       "      <td>731.000000</td>\n",
       "      <td>731.000000</td>\n",
       "      <td>731.000000</td>\n",
       "      <td>731.000000</td>\n",
       "      <td>731.000000</td>\n",
       "      <td>731.000000</td>\n",
       "      <td>731.000000</td>\n",
       "      <td>731.000000</td>\n",
       "      <td>731.000000</td>\n",
       "    </tr>\n",
       "    <tr>\n",
       "      <th>mean</th>\n",
       "      <td>366.000000</td>\n",
       "      <td>2.496580</td>\n",
       "      <td>0.500684</td>\n",
       "      <td>6.519836</td>\n",
       "      <td>0.028728</td>\n",
       "      <td>2.997264</td>\n",
       "      <td>0.683995</td>\n",
       "      <td>1.395349</td>\n",
       "      <td>0.495385</td>\n",
       "      <td>0.474354</td>\n",
       "      <td>0.627894</td>\n",
       "      <td>0.190486</td>\n",
       "      <td>848.176471</td>\n",
       "      <td>3656.172367</td>\n",
       "      <td>4504.348837</td>\n",
       "    </tr>\n",
       "    <tr>\n",
       "      <th>std</th>\n",
       "      <td>211.165812</td>\n",
       "      <td>1.110807</td>\n",
       "      <td>0.500342</td>\n",
       "      <td>3.451913</td>\n",
       "      <td>0.167155</td>\n",
       "      <td>2.004787</td>\n",
       "      <td>0.465233</td>\n",
       "      <td>0.544894</td>\n",
       "      <td>0.183051</td>\n",
       "      <td>0.162961</td>\n",
       "      <td>0.142429</td>\n",
       "      <td>0.077498</td>\n",
       "      <td>686.622488</td>\n",
       "      <td>1560.256377</td>\n",
       "      <td>1937.211452</td>\n",
       "    </tr>\n",
       "    <tr>\n",
       "      <th>min</th>\n",
       "      <td>1.000000</td>\n",
       "      <td>1.000000</td>\n",
       "      <td>0.000000</td>\n",
       "      <td>1.000000</td>\n",
       "      <td>0.000000</td>\n",
       "      <td>0.000000</td>\n",
       "      <td>0.000000</td>\n",
       "      <td>1.000000</td>\n",
       "      <td>0.059130</td>\n",
       "      <td>0.079070</td>\n",
       "      <td>0.000000</td>\n",
       "      <td>0.022392</td>\n",
       "      <td>2.000000</td>\n",
       "      <td>20.000000</td>\n",
       "      <td>22.000000</td>\n",
       "    </tr>\n",
       "    <tr>\n",
       "      <th>25%</th>\n",
       "      <td>183.500000</td>\n",
       "      <td>2.000000</td>\n",
       "      <td>0.000000</td>\n",
       "      <td>4.000000</td>\n",
       "      <td>0.000000</td>\n",
       "      <td>1.000000</td>\n",
       "      <td>0.000000</td>\n",
       "      <td>1.000000</td>\n",
       "      <td>0.337083</td>\n",
       "      <td>0.337842</td>\n",
       "      <td>0.520000</td>\n",
       "      <td>0.134950</td>\n",
       "      <td>315.500000</td>\n",
       "      <td>2497.000000</td>\n",
       "      <td>3152.000000</td>\n",
       "    </tr>\n",
       "    <tr>\n",
       "      <th>50%</th>\n",
       "      <td>366.000000</td>\n",
       "      <td>3.000000</td>\n",
       "      <td>1.000000</td>\n",
       "      <td>7.000000</td>\n",
       "      <td>0.000000</td>\n",
       "      <td>3.000000</td>\n",
       "      <td>1.000000</td>\n",
       "      <td>1.000000</td>\n",
       "      <td>0.498333</td>\n",
       "      <td>0.486733</td>\n",
       "      <td>0.626667</td>\n",
       "      <td>0.180975</td>\n",
       "      <td>713.000000</td>\n",
       "      <td>3662.000000</td>\n",
       "      <td>4548.000000</td>\n",
       "    </tr>\n",
       "    <tr>\n",
       "      <th>75%</th>\n",
       "      <td>548.500000</td>\n",
       "      <td>3.000000</td>\n",
       "      <td>1.000000</td>\n",
       "      <td>10.000000</td>\n",
       "      <td>0.000000</td>\n",
       "      <td>5.000000</td>\n",
       "      <td>1.000000</td>\n",
       "      <td>2.000000</td>\n",
       "      <td>0.655417</td>\n",
       "      <td>0.608602</td>\n",
       "      <td>0.730209</td>\n",
       "      <td>0.233214</td>\n",
       "      <td>1096.000000</td>\n",
       "      <td>4776.500000</td>\n",
       "      <td>5956.000000</td>\n",
       "    </tr>\n",
       "    <tr>\n",
       "      <th>max</th>\n",
       "      <td>731.000000</td>\n",
       "      <td>4.000000</td>\n",
       "      <td>1.000000</td>\n",
       "      <td>12.000000</td>\n",
       "      <td>1.000000</td>\n",
       "      <td>6.000000</td>\n",
       "      <td>1.000000</td>\n",
       "      <td>3.000000</td>\n",
       "      <td>0.861667</td>\n",
       "      <td>0.840896</td>\n",
       "      <td>0.972500</td>\n",
       "      <td>0.507463</td>\n",
       "      <td>3410.000000</td>\n",
       "      <td>6946.000000</td>\n",
       "      <td>8714.000000</td>\n",
       "    </tr>\n",
       "  </tbody>\n",
       "</table>\n",
       "</div>"
      ]
     },
     "execution_count": 399,
     "metadata": {},
     "output_type": "execute_result"
    }
   ],
   "execution_count": 399
  },
  {
   "metadata": {
    "ExecuteTime": {
     "end_time": "2024-10-02T14:42:51.467148Z",
     "start_time": "2024-10-02T14:42:51.460577Z"
    }
   },
   "cell_type": "code",
   "source": "day_df.duplicated().sum()",
   "outputs": [
    {
     "data": {
      "text/plain": [
       "np.int64(0)"
      ]
     },
     "execution_count": 400,
     "metadata": {},
     "output_type": "execute_result"
    }
   ],
   "execution_count": 400
  },
  {
   "metadata": {
    "ExecuteTime": {
     "end_time": "2024-10-02T14:42:51.593110Z",
     "start_time": "2024-10-02T14:42:51.584979Z"
    }
   },
   "cell_type": "code",
   "source": "day_df.isna().sum()",
   "outputs": [
    {
     "data": {
      "text/plain": [
       "instant       0\n",
       "dteday        0\n",
       "season        0\n",
       "yr            0\n",
       "mnth          0\n",
       "holiday       0\n",
       "weekday       0\n",
       "workingday    0\n",
       "weathersit    0\n",
       "temp          0\n",
       "atemp         0\n",
       "hum           0\n",
       "windspeed     0\n",
       "casual        0\n",
       "registered    0\n",
       "cnt           0\n",
       "dtype: int64"
      ]
     },
     "execution_count": 401,
     "metadata": {},
     "output_type": "execute_result"
    }
   ],
   "execution_count": 401
  },
  {
   "cell_type": "markdown",
   "source": [
    "**Insight:**\n",
    "- Beberapa columns telah dilakukan normalisasi seperti `temp, atemp, hum, dan windspeed`\n",
    "- Dataset sudah dalam keadaan bersih, tetapi terdapat satu column yang salah data type, yaitu dteday (object) yang seharusnya memiliki data type berupa datetime.\n",
    "- Tidak terdapat duplikasi pada dataset tersebut. \n",
    "- Tidak terdapat missing value pada dataset tersebut."
   ],
   "metadata": {
    "id": "7dtxhAPrkhPL"
   }
  },
  {
   "cell_type": "markdown",
   "metadata": {
    "id": "EhN5R4hr8DC1"
   },
   "source": [
    "### Cleaning Data"
   ]
  },
  {
   "metadata": {
    "ExecuteTime": {
     "end_time": "2024-10-02T14:42:51.653303Z",
     "start_time": "2024-10-02T14:42:51.641173Z"
    }
   },
   "cell_type": "code",
   "source": [
    "day_df['dteday'] = pd.to_datetime(day_df['dteday'])\n",
    "day_df.info()"
   ],
   "outputs": [
    {
     "name": "stdout",
     "output_type": "stream",
     "text": [
      "<class 'pandas.core.frame.DataFrame'>\n",
      "RangeIndex: 731 entries, 0 to 730\n",
      "Data columns (total 16 columns):\n",
      " #   Column      Non-Null Count  Dtype         \n",
      "---  ------      --------------  -----         \n",
      " 0   instant     731 non-null    int64         \n",
      " 1   dteday      731 non-null    datetime64[ns]\n",
      " 2   season      731 non-null    int64         \n",
      " 3   yr          731 non-null    int64         \n",
      " 4   mnth        731 non-null    int64         \n",
      " 5   holiday     731 non-null    int64         \n",
      " 6   weekday     731 non-null    int64         \n",
      " 7   workingday  731 non-null    int64         \n",
      " 8   weathersit  731 non-null    int64         \n",
      " 9   temp        731 non-null    float64       \n",
      " 10  atemp       731 non-null    float64       \n",
      " 11  hum         731 non-null    float64       \n",
      " 12  windspeed   731 non-null    float64       \n",
      " 13  casual      731 non-null    int64         \n",
      " 14  registered  731 non-null    int64         \n",
      " 15  cnt         731 non-null    int64         \n",
      "dtypes: datetime64[ns](1), float64(4), int64(11)\n",
      "memory usage: 91.5 KB\n"
     ]
    }
   ],
   "execution_count": 402
  },
  {
   "cell_type": "markdown",
   "source": [
    "**Insight:**\n",
    "- Pada tahap cleaning dilakukan perubahan data type column `dteday` menjadi datetime. \n",
    "- Dataset sudah dalam keadaan bersih, sehingga tidak perlu dilakukan cleaning lebih lanjut. "
   ],
   "metadata": {
    "id": "Q_5ejIqckiSP"
   }
  },
  {
   "cell_type": "markdown",
   "metadata": {
    "id": "gp-Y6wU38DC1"
   },
   "source": [
    "## Exploratory Data Analysis (EDA)"
   ]
  },
  {
   "cell_type": "markdown",
   "metadata": {
    "id": "MW7WF2kr8DC1"
   },
   "source": [
    "### Explore ..."
   ]
  },
  {
   "metadata": {
    "ExecuteTime": {
     "end_time": "2024-10-02T14:42:51.711042Z",
     "start_time": "2024-10-02T14:42:51.700177Z"
    }
   },
   "cell_type": "code",
   "source": [
    "day_df['workingday_group'] = day_df['workingday'].map({\n",
    "    0: 'Hari Libur', \n",
    "    1: 'Hari Kerja', \n",
    "})\n",
    "print('Jumlah transaksi berdasarkan hari:')\n",
    "day_df.groupby('workingday_group')[['casual', 'registered', 'cnt']].sum()"
   ],
   "outputs": [
    {
     "name": "stdout",
     "output_type": "stream",
     "text": [
      "Jumlah transaksi berdasarkan hari:\n"
     ]
    },
    {
     "data": {
      "text/plain": [
       "                  casual  registered      cnt\n",
       "workingday_group                             \n",
       "Hari Kerja        303285     1989125  2292410\n",
       "Hari Libur        316732      683537  1000269"
      ],
      "text/html": [
       "<div>\n",
       "<style scoped>\n",
       "    .dataframe tbody tr th:only-of-type {\n",
       "        vertical-align: middle;\n",
       "    }\n",
       "\n",
       "    .dataframe tbody tr th {\n",
       "        vertical-align: top;\n",
       "    }\n",
       "\n",
       "    .dataframe thead th {\n",
       "        text-align: right;\n",
       "    }\n",
       "</style>\n",
       "<table border=\"1\" class=\"dataframe\">\n",
       "  <thead>\n",
       "    <tr style=\"text-align: right;\">\n",
       "      <th></th>\n",
       "      <th>casual</th>\n",
       "      <th>registered</th>\n",
       "      <th>cnt</th>\n",
       "    </tr>\n",
       "    <tr>\n",
       "      <th>workingday_group</th>\n",
       "      <th></th>\n",
       "      <th></th>\n",
       "      <th></th>\n",
       "    </tr>\n",
       "  </thead>\n",
       "  <tbody>\n",
       "    <tr>\n",
       "      <th>Hari Kerja</th>\n",
       "      <td>303285</td>\n",
       "      <td>1989125</td>\n",
       "      <td>2292410</td>\n",
       "    </tr>\n",
       "    <tr>\n",
       "      <th>Hari Libur</th>\n",
       "      <td>316732</td>\n",
       "      <td>683537</td>\n",
       "      <td>1000269</td>\n",
       "    </tr>\n",
       "  </tbody>\n",
       "</table>\n",
       "</div>"
      ]
     },
     "execution_count": 403,
     "metadata": {},
     "output_type": "execute_result"
    }
   ],
   "execution_count": 403
  },
  {
   "metadata": {
    "ExecuteTime": {
     "end_time": "2024-10-02T14:42:51.788553Z",
     "start_time": "2024-10-02T14:42:51.778800Z"
    }
   },
   "cell_type": "code",
   "source": [
    "day_df['weathersit_group'] = day_df['weathersit'].map({\n",
    "    1: 'Cerah', \n",
    "    2: 'Berkabut/berawan', \n",
    "    3: 'Salju ringan/hujan ringan', \n",
    "    4: 'Hujan lebat/badai', \n",
    "})\n",
    "print('Jumlah transaksi berdasarkan cuaca:')\n",
    "day_df.groupby('weathersit_group')[['casual', 'registered', 'cnt']].sum()"
   ],
   "outputs": [
    {
     "name": "stdout",
     "output_type": "stream",
     "text": [
      "Jumlah transaksi berdasarkan cuaca:\n"
     ]
    },
    {
     "data": {
      "text/plain": [
       "                           casual  registered      cnt\n",
       "weathersit_group                                      \n",
       "Berkabut/berawan           169776      827082   996858\n",
       "Cerah                      446346     1811606  2257952\n",
       "Salju ringan/hujan ringan    3895       33974    37869"
      ],
      "text/html": [
       "<div>\n",
       "<style scoped>\n",
       "    .dataframe tbody tr th:only-of-type {\n",
       "        vertical-align: middle;\n",
       "    }\n",
       "\n",
       "    .dataframe tbody tr th {\n",
       "        vertical-align: top;\n",
       "    }\n",
       "\n",
       "    .dataframe thead th {\n",
       "        text-align: right;\n",
       "    }\n",
       "</style>\n",
       "<table border=\"1\" class=\"dataframe\">\n",
       "  <thead>\n",
       "    <tr style=\"text-align: right;\">\n",
       "      <th></th>\n",
       "      <th>casual</th>\n",
       "      <th>registered</th>\n",
       "      <th>cnt</th>\n",
       "    </tr>\n",
       "    <tr>\n",
       "      <th>weathersit_group</th>\n",
       "      <th></th>\n",
       "      <th></th>\n",
       "      <th></th>\n",
       "    </tr>\n",
       "  </thead>\n",
       "  <tbody>\n",
       "    <tr>\n",
       "      <th>Berkabut/berawan</th>\n",
       "      <td>169776</td>\n",
       "      <td>827082</td>\n",
       "      <td>996858</td>\n",
       "    </tr>\n",
       "    <tr>\n",
       "      <th>Cerah</th>\n",
       "      <td>446346</td>\n",
       "      <td>1811606</td>\n",
       "      <td>2257952</td>\n",
       "    </tr>\n",
       "    <tr>\n",
       "      <th>Salju ringan/hujan ringan</th>\n",
       "      <td>3895</td>\n",
       "      <td>33974</td>\n",
       "      <td>37869</td>\n",
       "    </tr>\n",
       "  </tbody>\n",
       "</table>\n",
       "</div>"
      ]
     },
     "execution_count": 404,
     "metadata": {},
     "output_type": "execute_result"
    }
   ],
   "execution_count": 404
  },
  {
   "cell_type": "code",
   "metadata": {
    "id": "e9CQCZjk8DC2",
    "ExecuteTime": {
     "end_time": "2024-10-02T14:42:51.885212Z",
     "start_time": "2024-10-02T14:42:51.876257Z"
    }
   },
   "source": [
    "day_df['season_group'] = day_df['season'].map({\n",
    "    1: 'Musim Semi', \n",
    "    2: 'Musim Panas', \n",
    "    3: 'Musim Gugur',\n",
    "    4: 'Musim Dingin', \n",
    "})\n",
    "print('Jumlah transaksi berdasarkan musim:')\n",
    "day_df.groupby('season_group')[['casual', 'registered', 'cnt']].sum()"
   ],
   "outputs": [
    {
     "name": "stdout",
     "output_type": "stream",
     "text": [
      "Jumlah transaksi berdasarkan musim:\n"
     ]
    },
    {
     "data": {
      "text/plain": [
       "              casual  registered      cnt\n",
       "season_group                             \n",
       "Musim Dingin  129782      711831   841613\n",
       "Musim Gugur   226091      835038  1061129\n",
       "Musim Panas   203522      715067   918589\n",
       "Musim Semi     60622      410726   471348"
      ],
      "text/html": [
       "<div>\n",
       "<style scoped>\n",
       "    .dataframe tbody tr th:only-of-type {\n",
       "        vertical-align: middle;\n",
       "    }\n",
       "\n",
       "    .dataframe tbody tr th {\n",
       "        vertical-align: top;\n",
       "    }\n",
       "\n",
       "    .dataframe thead th {\n",
       "        text-align: right;\n",
       "    }\n",
       "</style>\n",
       "<table border=\"1\" class=\"dataframe\">\n",
       "  <thead>\n",
       "    <tr style=\"text-align: right;\">\n",
       "      <th></th>\n",
       "      <th>casual</th>\n",
       "      <th>registered</th>\n",
       "      <th>cnt</th>\n",
       "    </tr>\n",
       "    <tr>\n",
       "      <th>season_group</th>\n",
       "      <th></th>\n",
       "      <th></th>\n",
       "      <th></th>\n",
       "    </tr>\n",
       "  </thead>\n",
       "  <tbody>\n",
       "    <tr>\n",
       "      <th>Musim Dingin</th>\n",
       "      <td>129782</td>\n",
       "      <td>711831</td>\n",
       "      <td>841613</td>\n",
       "    </tr>\n",
       "    <tr>\n",
       "      <th>Musim Gugur</th>\n",
       "      <td>226091</td>\n",
       "      <td>835038</td>\n",
       "      <td>1061129</td>\n",
       "    </tr>\n",
       "    <tr>\n",
       "      <th>Musim Panas</th>\n",
       "      <td>203522</td>\n",
       "      <td>715067</td>\n",
       "      <td>918589</td>\n",
       "    </tr>\n",
       "    <tr>\n",
       "      <th>Musim Semi</th>\n",
       "      <td>60622</td>\n",
       "      <td>410726</td>\n",
       "      <td>471348</td>\n",
       "    </tr>\n",
       "  </tbody>\n",
       "</table>\n",
       "</div>"
      ]
     },
     "execution_count": 405,
     "metadata": {},
     "output_type": "execute_result"
    }
   ],
   "execution_count": 405
  },
  {
   "cell_type": "markdown",
   "source": [
    "**Insight:**\n",
    "- Hari kerja adalah hari dengan transaksi peminjaman terbanyak. \n",
    "- Cuaca cerah adalah cuaca dengan transaksi peminjaman terbanyak. \n",
    "- Musim gugur adalah musim dengan transaksi peminjaman terbanyak. "
   ],
   "metadata": {
    "id": "th_Lzl2Fkj9O"
   }
  },
  {
   "cell_type": "markdown",
   "metadata": {
    "id": "zsyZjqak8DC2"
   },
   "source": [
    "## Visualization & Explanatory Analysis"
   ]
  },
  {
   "cell_type": "markdown",
   "metadata": {
    "id": "HZxOiQ6n8DC2"
   },
   "source": [
    "### Pertanyaan 1: Bagaimana perbedaan total transaksi penyewaan sepeda antara hari kerja dan hari libur?\n",
    "\n",
    "Manual grouping digunakan untuk mengkategorikan data hari menjadi dua label yang mudah dipahami, yaitu hari kerja dan hari libur. Pie plot digunakan untuk memvisualisasikan jumlah transaksi peminjaman antara hari kerja dan hari libur. Hal ini bertujuan untuk mempermudah proses identifikasi jumlah transaksi peminjaman sepeda berdasarkan jenis harinya. "
   ]
  },
  {
   "metadata": {
    "id": "1swJUdAD8DC2",
    "ExecuteTime": {
     "end_time": "2024-10-02T14:42:52.043845Z",
     "start_time": "2024-10-02T14:42:51.965364Z"
    }
   },
   "cell_type": "code",
   "source": [
    "day_analysis = day_df.groupby('workingday_group')['cnt'].sum()\n",
    "\n",
    "day_analysis.plot(kind='pie', autopct='%1.2f%%', startangle=90)\n",
    "plt.title('Persentase Transaksi Berdasarkan Hari')\n",
    "plt.ylabel('')\n",
    "plt.axis('equal')"
   ],
   "outputs": [
    {
     "data": {
      "text/plain": [
       "(np.float64(-1.0999996573206112),\n",
       " np.float64(1.0999990982311825),\n",
       " np.float64(-1.099998493768436),\n",
       " np.float64(1.0999999282746875))"
      ]
     },
     "execution_count": 406,
     "metadata": {},
     "output_type": "execute_result"
    },
    {
     "data": {
      "text/plain": [
       "<Figure size 640x480 with 1 Axes>"
      ],
      "image/png": "[encoded data removed]"
     },
     "metadata": {},
     "output_type": "display_data"
    }
   ],
   "execution_count": 406
  },
  {
   "metadata": {
    "id": "DgHI7CiU8DC2"
   },
   "cell_type": "markdown",
   "source": [
    "### Pertanyaan 2: Apakah faktor cuaca berpengaruh terhadap penyewaan sepeda antara pelanggan casual dan registered?\n",
    "\n",
    "Manual grouping digunakan untuk mengkategorikan data cuaca menjadi beberapa label yang mudah dipahami, yaitu berkabut/berawan, cerah, salju ringan/hujan ringan, dan hujan lebat/badai. Bar plot digunakan untuk memvisualisasikan rata-rata transaksi peminjaman antara pengguna casual dan registered berdasarkan kategori cuaca. Hal ini bertujuan untuk mempermudah proses identifikasi kondisi cuaca dengan rata-rata peminjaman sepeda oleh semua jenis pengguna. "
   ]
  },
  {
   "metadata": {
    "ExecuteTime": {
     "end_time": "2024-10-02T14:42:52.294536Z",
     "start_time": "2024-10-02T14:42:52.080644Z"
    }
   },
   "cell_type": "code",
   "source": [
    "weather_analysis = day_df.groupby('weathersit_group')[['casual', 'registered']].mean()\n",
    "\n",
    "weather_analysis.plot(kind='bar')\n",
    "plt.title('Rata-rata Transaksi Berdasarkan Cuaca')\n",
    "plt.xlabel('Cuaca')\n",
    "plt.xticks(rotation=0)\n",
    "plt.ylabel('Rata-rata transaksi')"
   ],
   "outputs": [
    {
     "data": {
      "text/plain": [
       "Text(0, 0.5, 'Rata-rata transaksi')"
      ]
     },
     "execution_count": 407,
     "metadata": {},
     "output_type": "execute_result"
    },
    {
     "data": {
      "text/plain": [
       "<Figure size 640x480 with 1 Axes>"
      ],
      "image/png": "[encoded data removed]"
     },
     "metadata": {},
     "output_type": "display_data"
    }
   ],
   "execution_count": 407
  },
  {
   "metadata": {},
   "cell_type": "markdown",
   "source": [
    "### Pertanyaan 3: Apakah faktor musim berpengaruh terhadap penyewaan sepeda antara pelanggan casual dan registered?\n",
    "\n",
    "Manual grouping digunakan untuk mengkategorikan data musim menjadi beberapa label yang mudah dipahami, yaitu musim dingin, gugur, panas, dan semi. Line plot digunakan untuk memvisualisasikan rata-rata transaksi peminjaman antara pengguna casual dan registered berdasarkan kategori musim. Hal ini bertujuan untuk mempermudah proses identifikasi dan analsis kondisi musim dengan rata-rata peminjaman sepeda oleh semua jenis pengguna. "
   ]
  },
  {
   "cell_type": "code",
   "metadata": {
    "id": "Go0lCsvO8DC2",
    "ExecuteTime": {
     "end_time": "2024-10-02T14:42:52.457619Z",
     "start_time": "2024-10-02T14:42:52.301367Z"
    }
   },
   "source": [
    "season_analysis = day_df.groupby('season_group')[['casual', 'registered']].mean()\n",
    "\n",
    "season_analysis.plot(kind='line')\n",
    "plt.title('Rata-rata Transaksi Berdasarkan Musim')\n",
    "plt.xlabel('Musim')\n",
    "plt.xticks(rotation=0)\n",
    "plt.ylabel('Rata-rata transaksi')"
   ],
   "outputs": [
    {
     "data": {
      "text/plain": [
       "Text(0, 0.5, 'Rata-rata transaksi')"
      ]
     },
     "execution_count": 408,
     "metadata": {},
     "output_type": "execute_result"
    },
    {
     "data": {
      "text/plain": [
       "<Figure size 640x480 with 1 Axes>"
      ],
      "image/png": "[encoded data removed]"
     },
     "metadata": {},
     "output_type": "display_data"
    }
   ],
   "execution_count": 408
  },
  {
   "cell_type": "markdown",
   "metadata": {
    "id": "_WeHlCeX8DC2"
   },
   "source": [
    "## Conclusion"
   ]
  },
  {
   "cell_type": "markdown",
   "metadata": {
    "id": "ZTcyR48Y8DC2"
   },
   "source": [
    "#### Bagaimana perbedaan total transaksi penyewaan sepeda antara hari kerja dan hari libur?\n",
    "\n",
    "Berdasarkan data dua tahun di atas, total transaksi peminjaman sepeda paling banyak dilakukan pada hari kerja, yaitu sebesar 69.62% diikuti dengan hari libur, yaitu sebesar 30.38%. \n",
    "<br><br>\n",
    "\n",
    "#### Apakah faktor cuaca berpengaruh terhadap penyewaan sepeda antara pelanggan casual dan registered?\n",
    "\n",
    "Berdasarkan data dua tahun di atas, rata-rata pengguna casual dan pengguna registered cenderung melakukan transaksi peminjaman sepeda ketika cuaca sedang cerah, kemudian diikuti dengan cuaca berkabut/berawan, dan salju ringan/hujan ringan. Tidak pernah ada transaksi peminjaman sepeda ketika cuaca sedang hujan lebat/badai.  \n",
    "<br><br>\n",
    "\n",
    "#### Apakah faktor musim berpengaruh terhadap penyewaan sepeda antara pelanggan casual dan registered?\n",
    "\n",
    "Berdasarkan data dua tahun di atas, rata-rata pengguna registered melakukan transaksi peminjaman sepeda terbanyak ketika musim gugur, diikuti dengan musim dingin, musim panas, dan musim semi. Sedangkan pengguna casual terdapat sedikit perbedaan, yaitu transaksi peminjaman sepeda terbanyak ketika musim gugur, musim panas, musim dingin, dan musim semi. "
   ]
  }
 ],
 "metadata": {
  "kernelspec": {
   "display_name": "Python 3",
   "language": "python",
   "name": "python3"
  },
  "language_info": {
   "name": "python",
   "version": "3.8.0 (tags/v3.8.0:fa919fd, Oct 14 2019, 19:21:23) [MSC v.1916 32 bit (Intel)]"
  },
  "orig_nbformat": 4,
  "vscode": {
   "interpreter": {
    "hash": "972b3bf27e332e87b5379f2791f6ef9dfc79c71018c370b0d7423235e20fe4d7"
   }
  },
  "colab": {
   "provenance": []
  }
 },
 "nbformat": 4,
 "nbformat_minor": 0
}
